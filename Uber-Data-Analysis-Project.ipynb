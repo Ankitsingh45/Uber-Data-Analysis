{
 "cells": [
  {
   "cell_type": "code",
   "execution_count": 1,
   "metadata": {},
   "outputs": [],
   "source": [
    "import pandas as pd\n",
    "import numpy as np\n",
    "import matplotlib.pyplot as plt\n",
    "import seaborn as sns"
   ]
  },
  {
   "cell_type": "code",
   "execution_count": 2,
   "metadata": {},
   "outputs": [],
   "source": [
    "dataset = pd.read_csv(r\"C:\\Users\\ankit\\OneDrive\\Desktop\\index\\UberDataset.csv\")"
   ]
  },
  {
   "cell_type": "code",
   "execution_count": 3,
   "metadata": {},
   "outputs": [
    {
     "data": {
      "text/html": [
       "<div>\n",
       "<style scoped>\n",
       "    .dataframe tbody tr th:only-of-type {\n",
       "        vertical-align: middle;\n",
       "    }\n",
       "\n",
       "    .dataframe tbody tr th {\n",
       "        vertical-align: top;\n",
       "    }\n",
       "\n",
       "    .dataframe thead th {\n",
       "        text-align: right;\n",
       "    }\n",
       "</style>\n",
       "<table border=\"1\" class=\"dataframe\">\n",
       "  <thead>\n",
       "    <tr style=\"text-align: right;\">\n",
       "      <th></th>\n",
       "      <th>START_DATE</th>\n",
       "      <th>END_DATE</th>\n",
       "      <th>CATEGORY</th>\n",
       "      <th>START</th>\n",
       "      <th>STOP</th>\n",
       "      <th>MILES</th>\n",
       "      <th>PURPOSE</th>\n",
       "    </tr>\n",
       "  </thead>\n",
       "  <tbody>\n",
       "    <tr>\n",
       "      <th>0</th>\n",
       "      <td>01-01-2016 21:11</td>\n",
       "      <td>01-01-2016 21:17</td>\n",
       "      <td>Business</td>\n",
       "      <td>Fort Pierce</td>\n",
       "      <td>Fort Pierce</td>\n",
       "      <td>5.1</td>\n",
       "      <td>Meal/Entertain</td>\n",
       "    </tr>\n",
       "    <tr>\n",
       "      <th>1</th>\n",
       "      <td>01-02-2016 01:25</td>\n",
       "      <td>01-02-2016 01:37</td>\n",
       "      <td>Business</td>\n",
       "      <td>Fort Pierce</td>\n",
       "      <td>Fort Pierce</td>\n",
       "      <td>5.0</td>\n",
       "      <td>NaN</td>\n",
       "    </tr>\n",
       "    <tr>\n",
       "      <th>2</th>\n",
       "      <td>01-02-2016 20:25</td>\n",
       "      <td>01-02-2016 20:38</td>\n",
       "      <td>Business</td>\n",
       "      <td>Fort Pierce</td>\n",
       "      <td>Fort Pierce</td>\n",
       "      <td>4.8</td>\n",
       "      <td>Errand/Supplies</td>\n",
       "    </tr>\n",
       "    <tr>\n",
       "      <th>3</th>\n",
       "      <td>01-05-2016 17:31</td>\n",
       "      <td>01-05-2016 17:45</td>\n",
       "      <td>Business</td>\n",
       "      <td>Fort Pierce</td>\n",
       "      <td>Fort Pierce</td>\n",
       "      <td>4.7</td>\n",
       "      <td>Meeting</td>\n",
       "    </tr>\n",
       "    <tr>\n",
       "      <th>4</th>\n",
       "      <td>01-06-2016 14:42</td>\n",
       "      <td>01-06-2016 15:49</td>\n",
       "      <td>Business</td>\n",
       "      <td>Fort Pierce</td>\n",
       "      <td>West Palm Beach</td>\n",
       "      <td>63.7</td>\n",
       "      <td>Customer Visit</td>\n",
       "    </tr>\n",
       "    <tr>\n",
       "      <th>...</th>\n",
       "      <td>...</td>\n",
       "      <td>...</td>\n",
       "      <td>...</td>\n",
       "      <td>...</td>\n",
       "      <td>...</td>\n",
       "      <td>...</td>\n",
       "      <td>...</td>\n",
       "    </tr>\n",
       "    <tr>\n",
       "      <th>1151</th>\n",
       "      <td>12/31/2016 13:24</td>\n",
       "      <td>12/31/2016 13:42</td>\n",
       "      <td>Business</td>\n",
       "      <td>Kar?chi</td>\n",
       "      <td>Unknown Location</td>\n",
       "      <td>3.9</td>\n",
       "      <td>Temporary Site</td>\n",
       "    </tr>\n",
       "    <tr>\n",
       "      <th>1152</th>\n",
       "      <td>12/31/2016 15:03</td>\n",
       "      <td>12/31/2016 15:38</td>\n",
       "      <td>Business</td>\n",
       "      <td>Unknown Location</td>\n",
       "      <td>Unknown Location</td>\n",
       "      <td>16.2</td>\n",
       "      <td>Meeting</td>\n",
       "    </tr>\n",
       "    <tr>\n",
       "      <th>1153</th>\n",
       "      <td>12/31/2016 21:32</td>\n",
       "      <td>12/31/2016 21:50</td>\n",
       "      <td>Business</td>\n",
       "      <td>Katunayake</td>\n",
       "      <td>Gampaha</td>\n",
       "      <td>6.4</td>\n",
       "      <td>Temporary Site</td>\n",
       "    </tr>\n",
       "    <tr>\n",
       "      <th>1154</th>\n",
       "      <td>12/31/2016 22:08</td>\n",
       "      <td>12/31/2016 23:51</td>\n",
       "      <td>Business</td>\n",
       "      <td>Gampaha</td>\n",
       "      <td>Ilukwatta</td>\n",
       "      <td>48.2</td>\n",
       "      <td>Temporary Site</td>\n",
       "    </tr>\n",
       "    <tr>\n",
       "      <th>1155</th>\n",
       "      <td>Totals</td>\n",
       "      <td>NaN</td>\n",
       "      <td>NaN</td>\n",
       "      <td>NaN</td>\n",
       "      <td>NaN</td>\n",
       "      <td>12204.7</td>\n",
       "      <td>NaN</td>\n",
       "    </tr>\n",
       "  </tbody>\n",
       "</table>\n",
       "<p>1156 rows × 7 columns</p>\n",
       "</div>"
      ],
      "text/plain": [
       "            START_DATE          END_DATE  CATEGORY             START  \\\n",
       "0     01-01-2016 21:11  01-01-2016 21:17  Business       Fort Pierce   \n",
       "1     01-02-2016 01:25  01-02-2016 01:37  Business       Fort Pierce   \n",
       "2     01-02-2016 20:25  01-02-2016 20:38  Business       Fort Pierce   \n",
       "3     01-05-2016 17:31  01-05-2016 17:45  Business       Fort Pierce   \n",
       "4     01-06-2016 14:42  01-06-2016 15:49  Business       Fort Pierce   \n",
       "...                ...               ...       ...               ...   \n",
       "1151  12/31/2016 13:24  12/31/2016 13:42  Business           Kar?chi   \n",
       "1152  12/31/2016 15:03  12/31/2016 15:38  Business  Unknown Location   \n",
       "1153  12/31/2016 21:32  12/31/2016 21:50  Business        Katunayake   \n",
       "1154  12/31/2016 22:08  12/31/2016 23:51  Business           Gampaha   \n",
       "1155            Totals               NaN       NaN               NaN   \n",
       "\n",
       "                  STOP    MILES          PURPOSE  \n",
       "0          Fort Pierce      5.1   Meal/Entertain  \n",
       "1          Fort Pierce      5.0              NaN  \n",
       "2          Fort Pierce      4.8  Errand/Supplies  \n",
       "3          Fort Pierce      4.7          Meeting  \n",
       "4      West Palm Beach     63.7   Customer Visit  \n",
       "...                ...      ...              ...  \n",
       "1151  Unknown Location      3.9   Temporary Site  \n",
       "1152  Unknown Location     16.2          Meeting  \n",
       "1153           Gampaha      6.4   Temporary Site  \n",
       "1154         Ilukwatta     48.2   Temporary Site  \n",
       "1155               NaN  12204.7              NaN  \n",
       "\n",
       "[1156 rows x 7 columns]"
      ]
     },
     "execution_count": 3,
     "metadata": {},
     "output_type": "execute_result"
    }
   ],
   "source": [
    "dataset"
   ]
  },
  {
   "cell_type": "code",
   "execution_count": 6,
   "metadata": {},
   "outputs": [
    {
     "data": {
      "text/plain": [
       "(1156, 7)"
      ]
     },
     "execution_count": 6,
     "metadata": {},
     "output_type": "execute_result"
    }
   ],
   "source": [
    "#To check rows and columns:\n",
    "dataset.shape "
   ]
  },
  {
   "cell_type": "code",
   "execution_count": 7,
   "metadata": {},
   "outputs": [
    {
     "name": "stdout",
     "output_type": "stream",
     "text": [
      "<class 'pandas.core.frame.DataFrame'>\n",
      "RangeIndex: 1156 entries, 0 to 1155\n",
      "Data columns (total 7 columns):\n",
      " #   Column      Non-Null Count  Dtype  \n",
      "---  ------      --------------  -----  \n",
      " 0   START_DATE  1156 non-null   object \n",
      " 1   END_DATE    1155 non-null   object \n",
      " 2   CATEGORY    1155 non-null   object \n",
      " 3   START       1155 non-null   object \n",
      " 4   STOP        1155 non-null   object \n",
      " 5   MILES       1156 non-null   float64\n",
      " 6   PURPOSE     653 non-null    object \n",
      "dtypes: float64(1), object(6)\n",
      "memory usage: 63.3+ KB\n"
     ]
    }
   ],
   "source": [
    "dataset.info()"
   ]
  },
  {
   "cell_type": "markdown",
   "metadata": {},
   "source": [
    "DATA PREPROCESSING"
   ]
  },
  {
   "cell_type": "code",
   "execution_count": 8,
   "metadata": {},
   "outputs": [
    {
     "name": "stderr",
     "output_type": "stream",
     "text": [
      "C:\\Users\\ankit\\AppData\\Local\\Temp\\ipykernel_12016\\2091397574.py:2: FutureWarning: A value is trying to be set on a copy of a DataFrame or Series through chained assignment using an inplace method.\n",
      "The behavior will change in pandas 3.0. This inplace method will never work because the intermediate object on which we are setting values always behaves as a copy.\n",
      "\n",
      "For example, when doing 'df[col].method(value, inplace=True)', try using 'df.method({col: value}, inplace=True)' or df[col] = df[col].method(value) instead, to perform the operation inplace on the original object.\n",
      "\n",
      "\n",
      "  dataset['PURPOSE'].fillna(\"NOT\", inplace = True)\n"
     ]
    }
   ],
   "source": [
    "# Change missing values to NOT:\n",
    "dataset['PURPOSE'].fillna(\"NOT\", inplace = True)"
   ]
  },
  {
   "cell_type": "code",
   "execution_count": 9,
   "metadata": {},
   "outputs": [
    {
     "data": {
      "text/html": [
       "<div>\n",
       "<style scoped>\n",
       "    .dataframe tbody tr th:only-of-type {\n",
       "        vertical-align: middle;\n",
       "    }\n",
       "\n",
       "    .dataframe tbody tr th {\n",
       "        vertical-align: top;\n",
       "    }\n",
       "\n",
       "    .dataframe thead th {\n",
       "        text-align: right;\n",
       "    }\n",
       "</style>\n",
       "<table border=\"1\" class=\"dataframe\">\n",
       "  <thead>\n",
       "    <tr style=\"text-align: right;\">\n",
       "      <th></th>\n",
       "      <th>START_DATE</th>\n",
       "      <th>END_DATE</th>\n",
       "      <th>CATEGORY</th>\n",
       "      <th>START</th>\n",
       "      <th>STOP</th>\n",
       "      <th>MILES</th>\n",
       "      <th>PURPOSE</th>\n",
       "    </tr>\n",
       "  </thead>\n",
       "  <tbody>\n",
       "    <tr>\n",
       "      <th>0</th>\n",
       "      <td>01-01-2016 21:11</td>\n",
       "      <td>01-01-2016 21:17</td>\n",
       "      <td>Business</td>\n",
       "      <td>Fort Pierce</td>\n",
       "      <td>Fort Pierce</td>\n",
       "      <td>5.1</td>\n",
       "      <td>Meal/Entertain</td>\n",
       "    </tr>\n",
       "    <tr>\n",
       "      <th>1</th>\n",
       "      <td>01-02-2016 01:25</td>\n",
       "      <td>01-02-2016 01:37</td>\n",
       "      <td>Business</td>\n",
       "      <td>Fort Pierce</td>\n",
       "      <td>Fort Pierce</td>\n",
       "      <td>5.0</td>\n",
       "      <td>NOT</td>\n",
       "    </tr>\n",
       "    <tr>\n",
       "      <th>2</th>\n",
       "      <td>01-02-2016 20:25</td>\n",
       "      <td>01-02-2016 20:38</td>\n",
       "      <td>Business</td>\n",
       "      <td>Fort Pierce</td>\n",
       "      <td>Fort Pierce</td>\n",
       "      <td>4.8</td>\n",
       "      <td>Errand/Supplies</td>\n",
       "    </tr>\n",
       "    <tr>\n",
       "      <th>3</th>\n",
       "      <td>01-05-2016 17:31</td>\n",
       "      <td>01-05-2016 17:45</td>\n",
       "      <td>Business</td>\n",
       "      <td>Fort Pierce</td>\n",
       "      <td>Fort Pierce</td>\n",
       "      <td>4.7</td>\n",
       "      <td>Meeting</td>\n",
       "    </tr>\n",
       "    <tr>\n",
       "      <th>4</th>\n",
       "      <td>01-06-2016 14:42</td>\n",
       "      <td>01-06-2016 15:49</td>\n",
       "      <td>Business</td>\n",
       "      <td>Fort Pierce</td>\n",
       "      <td>West Palm Beach</td>\n",
       "      <td>63.7</td>\n",
       "      <td>Customer Visit</td>\n",
       "    </tr>\n",
       "  </tbody>\n",
       "</table>\n",
       "</div>"
      ],
      "text/plain": [
       "         START_DATE          END_DATE  CATEGORY        START             STOP  \\\n",
       "0  01-01-2016 21:11  01-01-2016 21:17  Business  Fort Pierce      Fort Pierce   \n",
       "1  01-02-2016 01:25  01-02-2016 01:37  Business  Fort Pierce      Fort Pierce   \n",
       "2  01-02-2016 20:25  01-02-2016 20:38  Business  Fort Pierce      Fort Pierce   \n",
       "3  01-05-2016 17:31  01-05-2016 17:45  Business  Fort Pierce      Fort Pierce   \n",
       "4  01-06-2016 14:42  01-06-2016 15:49  Business  Fort Pierce  West Palm Beach   \n",
       "\n",
       "   MILES          PURPOSE  \n",
       "0    5.1   Meal/Entertain  \n",
       "1    5.0              NOT  \n",
       "2    4.8  Errand/Supplies  \n",
       "3    4.7          Meeting  \n",
       "4   63.7   Customer Visit  "
      ]
     },
     "execution_count": 9,
     "metadata": {},
     "output_type": "execute_result"
    }
   ],
   "source": [
    "dataset.head()"
   ]
  },
  {
   "cell_type": "code",
   "execution_count": 10,
   "metadata": {},
   "outputs": [],
   "source": [
    "# Change Start_Date and End_Date datatype (object Dtype --> datetime Dtype):\n",
    "dataset['START_DATE'] = pd.to_datetime(dataset['START_DATE'], errors = 'coerce')\n",
    "\n",
    "dataset['END_DATE'] = pd.to_datetime(dataset['END_DATE'], errors = 'coerce')"
   ]
  },
  {
   "cell_type": "code",
   "execution_count": 11,
   "metadata": {},
   "outputs": [
    {
     "name": "stdout",
     "output_type": "stream",
     "text": [
      "<class 'pandas.core.frame.DataFrame'>\n",
      "RangeIndex: 1156 entries, 0 to 1155\n",
      "Data columns (total 7 columns):\n",
      " #   Column      Non-Null Count  Dtype         \n",
      "---  ------      --------------  -----         \n",
      " 0   START_DATE  421 non-null    datetime64[ns]\n",
      " 1   END_DATE    420 non-null    datetime64[ns]\n",
      " 2   CATEGORY    1155 non-null   object        \n",
      " 3   START       1155 non-null   object        \n",
      " 4   STOP        1155 non-null   object        \n",
      " 5   MILES       1156 non-null   float64       \n",
      " 6   PURPOSE     1156 non-null   object        \n",
      "dtypes: datetime64[ns](2), float64(1), object(4)\n",
      "memory usage: 63.3+ KB\n"
     ]
    }
   ],
   "source": [
    "dataset.info()"
   ]
  },
  {
   "cell_type": "code",
   "execution_count": 13,
   "metadata": {},
   "outputs": [],
   "source": [
    "# Making new Columns, that is Date and Time:\n",
    "from datetime import datetime\n",
    "\n",
    "dataset['date'] = pd.DatetimeIndex(dataset['START_DATE']).date\n",
    "dataset['time'] = pd.DatetimeIndex(dataset['START_DATE']).hour"
   ]
  },
  {
   "cell_type": "code",
   "execution_count": 14,
   "metadata": {},
   "outputs": [
    {
     "data": {
      "text/html": [
       "<div>\n",
       "<style scoped>\n",
       "    .dataframe tbody tr th:only-of-type {\n",
       "        vertical-align: middle;\n",
       "    }\n",
       "\n",
       "    .dataframe tbody tr th {\n",
       "        vertical-align: top;\n",
       "    }\n",
       "\n",
       "    .dataframe thead th {\n",
       "        text-align: right;\n",
       "    }\n",
       "</style>\n",
       "<table border=\"1\" class=\"dataframe\">\n",
       "  <thead>\n",
       "    <tr style=\"text-align: right;\">\n",
       "      <th></th>\n",
       "      <th>START_DATE</th>\n",
       "      <th>END_DATE</th>\n",
       "      <th>CATEGORY</th>\n",
       "      <th>START</th>\n",
       "      <th>STOP</th>\n",
       "      <th>MILES</th>\n",
       "      <th>PURPOSE</th>\n",
       "      <th>date</th>\n",
       "      <th>time</th>\n",
       "    </tr>\n",
       "  </thead>\n",
       "  <tbody>\n",
       "    <tr>\n",
       "      <th>0</th>\n",
       "      <td>2016-01-01 21:11:00</td>\n",
       "      <td>2016-01-01 21:17:00</td>\n",
       "      <td>Business</td>\n",
       "      <td>Fort Pierce</td>\n",
       "      <td>Fort Pierce</td>\n",
       "      <td>5.1</td>\n",
       "      <td>Meal/Entertain</td>\n",
       "      <td>2016-01-01</td>\n",
       "      <td>21.0</td>\n",
       "    </tr>\n",
       "    <tr>\n",
       "      <th>1</th>\n",
       "      <td>2016-01-02 01:25:00</td>\n",
       "      <td>2016-01-02 01:37:00</td>\n",
       "      <td>Business</td>\n",
       "      <td>Fort Pierce</td>\n",
       "      <td>Fort Pierce</td>\n",
       "      <td>5.0</td>\n",
       "      <td>NOT</td>\n",
       "      <td>2016-01-02</td>\n",
       "      <td>1.0</td>\n",
       "    </tr>\n",
       "    <tr>\n",
       "      <th>2</th>\n",
       "      <td>2016-01-02 20:25:00</td>\n",
       "      <td>2016-01-02 20:38:00</td>\n",
       "      <td>Business</td>\n",
       "      <td>Fort Pierce</td>\n",
       "      <td>Fort Pierce</td>\n",
       "      <td>4.8</td>\n",
       "      <td>Errand/Supplies</td>\n",
       "      <td>2016-01-02</td>\n",
       "      <td>20.0</td>\n",
       "    </tr>\n",
       "    <tr>\n",
       "      <th>3</th>\n",
       "      <td>2016-01-05 17:31:00</td>\n",
       "      <td>2016-01-05 17:45:00</td>\n",
       "      <td>Business</td>\n",
       "      <td>Fort Pierce</td>\n",
       "      <td>Fort Pierce</td>\n",
       "      <td>4.7</td>\n",
       "      <td>Meeting</td>\n",
       "      <td>2016-01-05</td>\n",
       "      <td>17.0</td>\n",
       "    </tr>\n",
       "    <tr>\n",
       "      <th>4</th>\n",
       "      <td>2016-01-06 14:42:00</td>\n",
       "      <td>2016-01-06 15:49:00</td>\n",
       "      <td>Business</td>\n",
       "      <td>Fort Pierce</td>\n",
       "      <td>West Palm Beach</td>\n",
       "      <td>63.7</td>\n",
       "      <td>Customer Visit</td>\n",
       "      <td>2016-01-06</td>\n",
       "      <td>14.0</td>\n",
       "    </tr>\n",
       "  </tbody>\n",
       "</table>\n",
       "</div>"
      ],
      "text/plain": [
       "           START_DATE            END_DATE  CATEGORY        START  \\\n",
       "0 2016-01-01 21:11:00 2016-01-01 21:17:00  Business  Fort Pierce   \n",
       "1 2016-01-02 01:25:00 2016-01-02 01:37:00  Business  Fort Pierce   \n",
       "2 2016-01-02 20:25:00 2016-01-02 20:38:00  Business  Fort Pierce   \n",
       "3 2016-01-05 17:31:00 2016-01-05 17:45:00  Business  Fort Pierce   \n",
       "4 2016-01-06 14:42:00 2016-01-06 15:49:00  Business  Fort Pierce   \n",
       "\n",
       "              STOP  MILES          PURPOSE        date  time  \n",
       "0      Fort Pierce    5.1   Meal/Entertain  2016-01-01  21.0  \n",
       "1      Fort Pierce    5.0              NOT  2016-01-02   1.0  \n",
       "2      Fort Pierce    4.8  Errand/Supplies  2016-01-02  20.0  \n",
       "3      Fort Pierce    4.7          Meeting  2016-01-05  17.0  \n",
       "4  West Palm Beach   63.7   Customer Visit  2016-01-06  14.0  "
      ]
     },
     "execution_count": 14,
     "metadata": {},
     "output_type": "execute_result"
    }
   ],
   "source": [
    "dataset.head()"
   ]
  },
  {
   "cell_type": "code",
   "execution_count": 15,
   "metadata": {},
   "outputs": [],
   "source": [
    "# Devide in Catagories (Morning, Afternoon, Evening, Night):\n",
    "\n",
    "dataset['day-night'] = pd.cut(x=dataset['time'],bins =[0,10,15,19,24],labels = ['Morning', 'Afternoon', 'Evening', 'Night'])"
   ]
  },
  {
   "cell_type": "code",
   "execution_count": 16,
   "metadata": {},
   "outputs": [
    {
     "data": {
      "text/html": [
       "<div>\n",
       "<style scoped>\n",
       "    .dataframe tbody tr th:only-of-type {\n",
       "        vertical-align: middle;\n",
       "    }\n",
       "\n",
       "    .dataframe tbody tr th {\n",
       "        vertical-align: top;\n",
       "    }\n",
       "\n",
       "    .dataframe thead th {\n",
       "        text-align: right;\n",
       "    }\n",
       "</style>\n",
       "<table border=\"1\" class=\"dataframe\">\n",
       "  <thead>\n",
       "    <tr style=\"text-align: right;\">\n",
       "      <th></th>\n",
       "      <th>START_DATE</th>\n",
       "      <th>END_DATE</th>\n",
       "      <th>CATEGORY</th>\n",
       "      <th>START</th>\n",
       "      <th>STOP</th>\n",
       "      <th>MILES</th>\n",
       "      <th>PURPOSE</th>\n",
       "      <th>date</th>\n",
       "      <th>time</th>\n",
       "      <th>day-night</th>\n",
       "    </tr>\n",
       "  </thead>\n",
       "  <tbody>\n",
       "    <tr>\n",
       "      <th>0</th>\n",
       "      <td>2016-01-01 21:11:00</td>\n",
       "      <td>2016-01-01 21:17:00</td>\n",
       "      <td>Business</td>\n",
       "      <td>Fort Pierce</td>\n",
       "      <td>Fort Pierce</td>\n",
       "      <td>5.1</td>\n",
       "      <td>Meal/Entertain</td>\n",
       "      <td>2016-01-01</td>\n",
       "      <td>21.0</td>\n",
       "      <td>Night</td>\n",
       "    </tr>\n",
       "    <tr>\n",
       "      <th>1</th>\n",
       "      <td>2016-01-02 01:25:00</td>\n",
       "      <td>2016-01-02 01:37:00</td>\n",
       "      <td>Business</td>\n",
       "      <td>Fort Pierce</td>\n",
       "      <td>Fort Pierce</td>\n",
       "      <td>5.0</td>\n",
       "      <td>NOT</td>\n",
       "      <td>2016-01-02</td>\n",
       "      <td>1.0</td>\n",
       "      <td>Morning</td>\n",
       "    </tr>\n",
       "    <tr>\n",
       "      <th>2</th>\n",
       "      <td>2016-01-02 20:25:00</td>\n",
       "      <td>2016-01-02 20:38:00</td>\n",
       "      <td>Business</td>\n",
       "      <td>Fort Pierce</td>\n",
       "      <td>Fort Pierce</td>\n",
       "      <td>4.8</td>\n",
       "      <td>Errand/Supplies</td>\n",
       "      <td>2016-01-02</td>\n",
       "      <td>20.0</td>\n",
       "      <td>Night</td>\n",
       "    </tr>\n",
       "    <tr>\n",
       "      <th>3</th>\n",
       "      <td>2016-01-05 17:31:00</td>\n",
       "      <td>2016-01-05 17:45:00</td>\n",
       "      <td>Business</td>\n",
       "      <td>Fort Pierce</td>\n",
       "      <td>Fort Pierce</td>\n",
       "      <td>4.7</td>\n",
       "      <td>Meeting</td>\n",
       "      <td>2016-01-05</td>\n",
       "      <td>17.0</td>\n",
       "      <td>Evening</td>\n",
       "    </tr>\n",
       "    <tr>\n",
       "      <th>4</th>\n",
       "      <td>2016-01-06 14:42:00</td>\n",
       "      <td>2016-01-06 15:49:00</td>\n",
       "      <td>Business</td>\n",
       "      <td>Fort Pierce</td>\n",
       "      <td>West Palm Beach</td>\n",
       "      <td>63.7</td>\n",
       "      <td>Customer Visit</td>\n",
       "      <td>2016-01-06</td>\n",
       "      <td>14.0</td>\n",
       "      <td>Afternoon</td>\n",
       "    </tr>\n",
       "  </tbody>\n",
       "</table>\n",
       "</div>"
      ],
      "text/plain": [
       "           START_DATE            END_DATE  CATEGORY        START  \\\n",
       "0 2016-01-01 21:11:00 2016-01-01 21:17:00  Business  Fort Pierce   \n",
       "1 2016-01-02 01:25:00 2016-01-02 01:37:00  Business  Fort Pierce   \n",
       "2 2016-01-02 20:25:00 2016-01-02 20:38:00  Business  Fort Pierce   \n",
       "3 2016-01-05 17:31:00 2016-01-05 17:45:00  Business  Fort Pierce   \n",
       "4 2016-01-06 14:42:00 2016-01-06 15:49:00  Business  Fort Pierce   \n",
       "\n",
       "              STOP  MILES          PURPOSE        date  time  day-night  \n",
       "0      Fort Pierce    5.1   Meal/Entertain  2016-01-01  21.0      Night  \n",
       "1      Fort Pierce    5.0              NOT  2016-01-02   1.0    Morning  \n",
       "2      Fort Pierce    4.8  Errand/Supplies  2016-01-02  20.0      Night  \n",
       "3      Fort Pierce    4.7          Meeting  2016-01-05  17.0    Evening  \n",
       "4  West Palm Beach   63.7   Customer Visit  2016-01-06  14.0  Afternoon  "
      ]
     },
     "execution_count": 16,
     "metadata": {},
     "output_type": "execute_result"
    }
   ],
   "source": [
    "dataset.head()"
   ]
  },
  {
   "cell_type": "code",
   "execution_count": 17,
   "metadata": {},
   "outputs": [],
   "source": [
    "dataset.dropna(inplace = True)"
   ]
  },
  {
   "cell_type": "code",
   "execution_count": 18,
   "metadata": {},
   "outputs": [
    {
     "data": {
      "text/plain": [
       "(413, 10)"
      ]
     },
     "execution_count": 18,
     "metadata": {},
     "output_type": "execute_result"
    }
   ],
   "source": [
    "dataset.shape"
   ]
  },
  {
   "cell_type": "markdown",
   "metadata": {},
   "source": [
    "DATA VISUALIZATION"
   ]
  },
  {
   "cell_type": "code",
   "execution_count": 19,
   "metadata": {},
   "outputs": [
    {
     "data": {
      "text/plain": [
       "<Axes: xlabel='count', ylabel='PURPOSE'>"
      ]
     },
     "execution_count": 19,
     "metadata": {},
     "output_type": "execute_result"
    },
    {
     "data": {
      "image/png": "[encoded data removed]",
      "text/plain": [
       "<Figure size 2000x500 with 2 Axes>"
      ]
     },
     "metadata": {},
     "output_type": "display_data"
    }
   ],
   "source": [
    "plt.figure(figsize=(20,5))\n",
    "\n",
    "plt.subplot(1,2,1)\n",
    "\n",
    "# Q-1:\n",
    "sns.countplot(dataset['CATEGORY'])\n",
    "plt.xticks(rotation =90)\n",
    "# Q-2:\n",
    "plt.subplot(1,2,2)\n",
    "sns.countplot(dataset['PURPOSE'])"
   ]
  },
  {
   "cell_type": "code",
   "execution_count": 20,
   "metadata": {},
   "outputs": [
    {
     "data": {
      "text/plain": [
       "<Axes: xlabel='count', ylabel='day-night'>"
      ]
     },
     "execution_count": 20,
     "metadata": {},
     "output_type": "execute_result"
    },
    {
     "data": {
      "image/png": "[encoded data removed]",
      "text/plain": [
       "<Figure size 640x480 with 1 Axes>"
      ]
     },
     "metadata": {},
     "output_type": "display_data"
    }
   ],
   "source": [
    "# Q-3:\n",
    "sns.countplot(dataset['day-night'])"
   ]
  },
  {
   "cell_type": "code",
   "execution_count": 21,
   "metadata": {},
   "outputs": [],
   "source": [
    "# Making new Columns, that is 'MONTH':\n",
    "dataset['MONTH'] =pd.DatetimeIndex(dataset['START_DATE']).month #Extract month from START-DATE\n",
    "month_label = {1.0 : 'Jan', 2.0 : 'Feb', 3.0 : 'Mar', 4.0 : 'Apr', 5.0 : 'May', 6.0 : 'Jun',\n",
    "               7.0 : 'Jul', 8.0 : 'Aug', 9.0 : 'Sept', 10.0 : 'Oct', 11.0 : 'Nov', 12.0 : 'Dec'}\n",
    "dataset[\"MONTH\"] = dataset.MONTH.map(month_label) #Replace number month to string names\n",
    "mon = dataset.MONTH.value_counts(sort=False) # Calculate each month count"
   ]
  },
  {
   "cell_type": "code",
   "execution_count": 22,
   "metadata": {},
   "outputs": [
    {
     "data": {
      "text/html": [
       "<div>\n",
       "<style scoped>\n",
       "    .dataframe tbody tr th:only-of-type {\n",
       "        vertical-align: middle;\n",
       "    }\n",
       "\n",
       "    .dataframe tbody tr th {\n",
       "        vertical-align: top;\n",
       "    }\n",
       "\n",
       "    .dataframe thead th {\n",
       "        text-align: right;\n",
       "    }\n",
       "</style>\n",
       "<table border=\"1\" class=\"dataframe\">\n",
       "  <thead>\n",
       "    <tr style=\"text-align: right;\">\n",
       "      <th></th>\n",
       "      <th>START_DATE</th>\n",
       "      <th>END_DATE</th>\n",
       "      <th>CATEGORY</th>\n",
       "      <th>START</th>\n",
       "      <th>STOP</th>\n",
       "      <th>MILES</th>\n",
       "      <th>PURPOSE</th>\n",
       "      <th>date</th>\n",
       "      <th>time</th>\n",
       "      <th>day-night</th>\n",
       "      <th>MONTH</th>\n",
       "    </tr>\n",
       "  </thead>\n",
       "  <tbody>\n",
       "    <tr>\n",
       "      <th>0</th>\n",
       "      <td>2016-01-01 21:11:00</td>\n",
       "      <td>2016-01-01 21:17:00</td>\n",
       "      <td>Business</td>\n",
       "      <td>Fort Pierce</td>\n",
       "      <td>Fort Pierce</td>\n",
       "      <td>5.1</td>\n",
       "      <td>Meal/Entertain</td>\n",
       "      <td>2016-01-01</td>\n",
       "      <td>21.0</td>\n",
       "      <td>Night</td>\n",
       "      <td>Jan</td>\n",
       "    </tr>\n",
       "    <tr>\n",
       "      <th>1</th>\n",
       "      <td>2016-01-02 01:25:00</td>\n",
       "      <td>2016-01-02 01:37:00</td>\n",
       "      <td>Business</td>\n",
       "      <td>Fort Pierce</td>\n",
       "      <td>Fort Pierce</td>\n",
       "      <td>5.0</td>\n",
       "      <td>NOT</td>\n",
       "      <td>2016-01-02</td>\n",
       "      <td>1.0</td>\n",
       "      <td>Morning</td>\n",
       "      <td>Jan</td>\n",
       "    </tr>\n",
       "    <tr>\n",
       "      <th>2</th>\n",
       "      <td>2016-01-02 20:25:00</td>\n",
       "      <td>2016-01-02 20:38:00</td>\n",
       "      <td>Business</td>\n",
       "      <td>Fort Pierce</td>\n",
       "      <td>Fort Pierce</td>\n",
       "      <td>4.8</td>\n",
       "      <td>Errand/Supplies</td>\n",
       "      <td>2016-01-02</td>\n",
       "      <td>20.0</td>\n",
       "      <td>Night</td>\n",
       "      <td>Jan</td>\n",
       "    </tr>\n",
       "    <tr>\n",
       "      <th>3</th>\n",
       "      <td>2016-01-05 17:31:00</td>\n",
       "      <td>2016-01-05 17:45:00</td>\n",
       "      <td>Business</td>\n",
       "      <td>Fort Pierce</td>\n",
       "      <td>Fort Pierce</td>\n",
       "      <td>4.7</td>\n",
       "      <td>Meeting</td>\n",
       "      <td>2016-01-05</td>\n",
       "      <td>17.0</td>\n",
       "      <td>Evening</td>\n",
       "      <td>Jan</td>\n",
       "    </tr>\n",
       "    <tr>\n",
       "      <th>4</th>\n",
       "      <td>2016-01-06 14:42:00</td>\n",
       "      <td>2016-01-06 15:49:00</td>\n",
       "      <td>Business</td>\n",
       "      <td>Fort Pierce</td>\n",
       "      <td>West Palm Beach</td>\n",
       "      <td>63.7</td>\n",
       "      <td>Customer Visit</td>\n",
       "      <td>2016-01-06</td>\n",
       "      <td>14.0</td>\n",
       "      <td>Afternoon</td>\n",
       "      <td>Jan</td>\n",
       "    </tr>\n",
       "  </tbody>\n",
       "</table>\n",
       "</div>"
      ],
      "text/plain": [
       "           START_DATE            END_DATE  CATEGORY        START  \\\n",
       "0 2016-01-01 21:11:00 2016-01-01 21:17:00  Business  Fort Pierce   \n",
       "1 2016-01-02 01:25:00 2016-01-02 01:37:00  Business  Fort Pierce   \n",
       "2 2016-01-02 20:25:00 2016-01-02 20:38:00  Business  Fort Pierce   \n",
       "3 2016-01-05 17:31:00 2016-01-05 17:45:00  Business  Fort Pierce   \n",
       "4 2016-01-06 14:42:00 2016-01-06 15:49:00  Business  Fort Pierce   \n",
       "\n",
       "              STOP  MILES          PURPOSE        date  time  day-night MONTH  \n",
       "0      Fort Pierce    5.1   Meal/Entertain  2016-01-01  21.0      Night   Jan  \n",
       "1      Fort Pierce    5.0              NOT  2016-01-02   1.0    Morning   Jan  \n",
       "2      Fort Pierce    4.8  Errand/Supplies  2016-01-02  20.0      Night   Jan  \n",
       "3      Fort Pierce    4.7          Meeting  2016-01-05  17.0    Evening   Jan  \n",
       "4  West Palm Beach   63.7   Customer Visit  2016-01-06  14.0  Afternoon   Jan  "
      ]
     },
     "execution_count": 22,
     "metadata": {},
     "output_type": "execute_result"
    }
   ],
   "source": [
    "dataset.head()"
   ]
  },
  {
   "cell_type": "code",
   "execution_count": 23,
   "metadata": {},
   "outputs": [
    {
     "data": {
      "text/plain": [
       "[Text(0.5, 0, 'MONTHS'), Text(0, 0.5, 'VALUE COUNT')]"
      ]
     },
     "execution_count": 23,
     "metadata": {},
     "output_type": "execute_result"
    },
    {
     "data": {
      "image/png": "[encoded data removed]",
      "text/plain": [
       "<Figure size 640x480 with 1 Axes>"
      ]
     },
     "metadata": {},
     "output_type": "display_data"
    }
   ],
   "source": [
    "# Q-4:\n",
    "df = pd.DataFrame({\n",
    "    \"MONTHS\": mon.values, # Total count of each month\n",
    "    \"VALUE COUNT\": dataset.groupby('MONTH', sort=False)['MILES'].max() #Max MILES value of each month\n",
    "})\n",
    "\n",
    "p = sns.lineplot(data=df) #making lineplot\n",
    "p.set(xlabel=\"MONTHS\", ylabel=\"VALUE COUNT\") #For set Axis labels"
   ]
  },
  {
   "cell_type": "code",
   "execution_count": 24,
   "metadata": {},
   "outputs": [],
   "source": [
    "# Making new Columns, that is 'DAY':\n",
    "dataset['DAY'] = dataset.START_DATE.dt.weekday\n",
    "\n",
    "day_label = {0: 'Monday', 1: 'Tuesday', 2: 'Wednesday', 3: 'Thursday',\n",
    "              4: 'Friday',5: 'Saturday',6: 'Sunday'}\n",
    "\n",
    "dataset['DAY'] = dataset['DAY'].map(day_label)"
   ]
  },
  {
   "cell_type": "code",
   "execution_count": 25,
   "metadata": {},
   "outputs": [
    {
     "data": {
      "text/html": [
       "<div>\n",
       "<style scoped>\n",
       "    .dataframe tbody tr th:only-of-type {\n",
       "        vertical-align: middle;\n",
       "    }\n",
       "\n",
       "    .dataframe tbody tr th {\n",
       "        vertical-align: top;\n",
       "    }\n",
       "\n",
       "    .dataframe thead th {\n",
       "        text-align: right;\n",
       "    }\n",
       "</style>\n",
       "<table border=\"1\" class=\"dataframe\">\n",
       "  <thead>\n",
       "    <tr style=\"text-align: right;\">\n",
       "      <th></th>\n",
       "      <th>START_DATE</th>\n",
       "      <th>END_DATE</th>\n",
       "      <th>CATEGORY</th>\n",
       "      <th>START</th>\n",
       "      <th>STOP</th>\n",
       "      <th>MILES</th>\n",
       "      <th>PURPOSE</th>\n",
       "      <th>date</th>\n",
       "      <th>time</th>\n",
       "      <th>day-night</th>\n",
       "      <th>MONTH</th>\n",
       "      <th>DAY</th>\n",
       "    </tr>\n",
       "  </thead>\n",
       "  <tbody>\n",
       "    <tr>\n",
       "      <th>0</th>\n",
       "      <td>2016-01-01 21:11:00</td>\n",
       "      <td>2016-01-01 21:17:00</td>\n",
       "      <td>Business</td>\n",
       "      <td>Fort Pierce</td>\n",
       "      <td>Fort Pierce</td>\n",
       "      <td>5.1</td>\n",
       "      <td>Meal/Entertain</td>\n",
       "      <td>2016-01-01</td>\n",
       "      <td>21.0</td>\n",
       "      <td>Night</td>\n",
       "      <td>Jan</td>\n",
       "      <td>Friday</td>\n",
       "    </tr>\n",
       "    <tr>\n",
       "      <th>1</th>\n",
       "      <td>2016-01-02 01:25:00</td>\n",
       "      <td>2016-01-02 01:37:00</td>\n",
       "      <td>Business</td>\n",
       "      <td>Fort Pierce</td>\n",
       "      <td>Fort Pierce</td>\n",
       "      <td>5.0</td>\n",
       "      <td>NOT</td>\n",
       "      <td>2016-01-02</td>\n",
       "      <td>1.0</td>\n",
       "      <td>Morning</td>\n",
       "      <td>Jan</td>\n",
       "      <td>Saturday</td>\n",
       "    </tr>\n",
       "    <tr>\n",
       "      <th>2</th>\n",
       "      <td>2016-01-02 20:25:00</td>\n",
       "      <td>2016-01-02 20:38:00</td>\n",
       "      <td>Business</td>\n",
       "      <td>Fort Pierce</td>\n",
       "      <td>Fort Pierce</td>\n",
       "      <td>4.8</td>\n",
       "      <td>Errand/Supplies</td>\n",
       "      <td>2016-01-02</td>\n",
       "      <td>20.0</td>\n",
       "      <td>Night</td>\n",
       "      <td>Jan</td>\n",
       "      <td>Saturday</td>\n",
       "    </tr>\n",
       "    <tr>\n",
       "      <th>3</th>\n",
       "      <td>2016-01-05 17:31:00</td>\n",
       "      <td>2016-01-05 17:45:00</td>\n",
       "      <td>Business</td>\n",
       "      <td>Fort Pierce</td>\n",
       "      <td>Fort Pierce</td>\n",
       "      <td>4.7</td>\n",
       "      <td>Meeting</td>\n",
       "      <td>2016-01-05</td>\n",
       "      <td>17.0</td>\n",
       "      <td>Evening</td>\n",
       "      <td>Jan</td>\n",
       "      <td>Tuesday</td>\n",
       "    </tr>\n",
       "    <tr>\n",
       "      <th>4</th>\n",
       "      <td>2016-01-06 14:42:00</td>\n",
       "      <td>2016-01-06 15:49:00</td>\n",
       "      <td>Business</td>\n",
       "      <td>Fort Pierce</td>\n",
       "      <td>West Palm Beach</td>\n",
       "      <td>63.7</td>\n",
       "      <td>Customer Visit</td>\n",
       "      <td>2016-01-06</td>\n",
       "      <td>14.0</td>\n",
       "      <td>Afternoon</td>\n",
       "      <td>Jan</td>\n",
       "      <td>Wednesday</td>\n",
       "    </tr>\n",
       "  </tbody>\n",
       "</table>\n",
       "</div>"
      ],
      "text/plain": [
       "           START_DATE            END_DATE  CATEGORY        START  \\\n",
       "0 2016-01-01 21:11:00 2016-01-01 21:17:00  Business  Fort Pierce   \n",
       "1 2016-01-02 01:25:00 2016-01-02 01:37:00  Business  Fort Pierce   \n",
       "2 2016-01-02 20:25:00 2016-01-02 20:38:00  Business  Fort Pierce   \n",
       "3 2016-01-05 17:31:00 2016-01-05 17:45:00  Business  Fort Pierce   \n",
       "4 2016-01-06 14:42:00 2016-01-06 15:49:00  Business  Fort Pierce   \n",
       "\n",
       "              STOP  MILES          PURPOSE        date  time  day-night MONTH  \\\n",
       "0      Fort Pierce    5.1   Meal/Entertain  2016-01-01  21.0      Night   Jan   \n",
       "1      Fort Pierce    5.0              NOT  2016-01-02   1.0    Morning   Jan   \n",
       "2      Fort Pierce    4.8  Errand/Supplies  2016-01-02  20.0      Night   Jan   \n",
       "3      Fort Pierce    4.7          Meeting  2016-01-05  17.0    Evening   Jan   \n",
       "4  West Palm Beach   63.7   Customer Visit  2016-01-06  14.0  Afternoon   Jan   \n",
       "\n",
       "         DAY  \n",
       "0     Friday  \n",
       "1   Saturday  \n",
       "2   Saturday  \n",
       "3    Tuesday  \n",
       "4  Wednesday  "
      ]
     },
     "execution_count": 25,
     "metadata": {},
     "output_type": "execute_result"
    }
   ],
   "source": [
    "dataset.head()"
   ]
  },
  {
   "cell_type": "code",
   "execution_count": 26,
   "metadata": {},
   "outputs": [
    {
     "data": {
      "text/plain": [
       "Text(0, 0.5, 'COUNT')"
      ]
     },
     "execution_count": 26,
     "metadata": {},
     "output_type": "execute_result"
    },
    {
     "data": {
      "image/png": "[encoded data removed]",
      "text/plain": [
       "<Figure size 640x480 with 1 Axes>"
      ]
     },
     "metadata": {},
     "output_type": "display_data"
    }
   ],
   "source": [
    "# Q-5:\n",
    "day_label = dataset.DAY.value_counts()\n",
    "\n",
    "sns.barplot(x=day_label.index, y= day_label)\n",
    "plt.xlabel('DAY')\n",
    "plt.ylabel('COUNT')"
   ]
  },
  {
   "cell_type": "code",
   "execution_count": 27,
   "metadata": {},
   "outputs": [
    {
     "data": {
      "text/plain": [
       "<Axes: ylabel='MILES'>"
      ]
     },
     "execution_count": 27,
     "metadata": {},
     "output_type": "execute_result"
    },
    {
     "data": {
      "image/png": "[encoded data removed]",
      "text/plain": [
       "<Figure size 640x480 with 1 Axes>"
      ]
     },
     "metadata": {},
     "output_type": "display_data"
    }
   ],
   "source": [
    "# Q-6:\n",
    "\n",
    "sns.boxplot(dataset['MILES'])"
   ]
  },
  {
   "cell_type": "code",
   "execution_count": 28,
   "metadata": {},
   "outputs": [
    {
     "data": {
      "text/plain": [
       "<Axes: ylabel='MILES'>"
      ]
     },
     "execution_count": 28,
     "metadata": {},
     "output_type": "execute_result"
    },
    {
     "data": {
      "image/png": "[encoded data removed]",
      "text/plain": [
       "<Figure size 640x480 with 1 Axes>"
      ]
     },
     "metadata": {},
     "output_type": "display_data"
    }
   ],
   "source": [
    "sns.boxplot(dataset[dataset['MILES']<100]['MILES'])"
   ]
  },
  {
   "cell_type": "code",
   "execution_count": 4,
   "metadata": {},
   "outputs": [
    {
     "data": {
      "text/plain": [
       "<Axes: ylabel='MILES'>"
      ]
     },
     "execution_count": 4,
     "metadata": {},
     "output_type": "execute_result"
    },
    {
     "data": {
      "image/png": "[encoded data removed]",
      "text/plain": [
       "<Figure size 640x480 with 1 Axes>"
      ]
     },
     "metadata": {},
     "output_type": "display_data"
    }
   ],
   "source": [
    "sns.boxplot(dataset[dataset['MILES']<40]['MILES'])"
   ]
  },
  {
   "cell_type": "code",
   "execution_count": 5,
   "metadata": {},
   "outputs": [
    {
     "name": "stderr",
     "output_type": "stream",
     "text": [
      "C:\\Users\\ankit\\AppData\\Local\\Temp\\ipykernel_20152\\1678554178.py:1: UserWarning: \n",
      "\n",
      "`distplot` is a deprecated function and will be removed in seaborn v0.14.0.\n",
      "\n",
      "Please adapt your code to use either `displot` (a figure-level function with\n",
      "similar flexibility) or `histplot` (an axes-level function for histograms).\n",
      "\n",
      "For a guide to updating your code to use the new functions, please see\n",
      "https://gist.github.com/mwaskom/de44147ed2974457ad6372750bbe5751\n",
      "\n",
      "  sns.distplot(dataset[dataset['MILES']<40]['MILES'])\n"
     ]
    },
    {
     "data": {
      "text/plain": [
       "<Axes: xlabel='MILES', ylabel='Density'>"
      ]
     },
     "execution_count": 5,
     "metadata": {},
     "output_type": "execute_result"
    },
    {
     "data": {
      "image/png": "[encoded data removed]",
      "text/plain": [
       "<Figure size 640x480 with 1 Axes>"
      ]
     },
     "metadata": {},
     "output_type": "display_data"
    }
   ],
   "source": [
    "sns.distplot(dataset[dataset['MILES']<40]['MILES'])"
   ]
  }
 ],
 "metadata": {
  "kernelspec": {
   "display_name": "Python 3",
   "language": "python",
   "name": "python3"
  },
  "language_info": {
   "codemirror_mode": {
    "name": "ipython",
    "version": 3
   },
   "file_extension": ".py",
   "mimetype": "text/x-python",
   "name": "python",
   "nbconvert_exporter": "python",
   "pygments_lexer": "ipython3",
   "version": "3.12.4"
  }
 },
 "nbformat": 4,
 "nbformat_minor": 2
}
